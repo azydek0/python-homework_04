{
  "nbformat": 4,
  "nbformat_minor": 0,
  "metadata": {
    "colab": {
      "name": "project_04.ipynb",
      "provenance": [],
      "collapsed_sections": [],
      "authorship_tag": "ABX9TyNfJYtiuFYtC47USXsMkPwg",
      "include_colab_link": true
    },
    "kernelspec": {
      "name": "python3",
      "display_name": "Python 3"
    }
  },
  "cells": [
    {
      "cell_type": "markdown",
      "metadata": {
        "id": "view-in-github",
        "colab_type": "text"
      },
      "source": [
        "<a href=\"https://colab.research.google.com/github/azydek0/python-homework_04/blob/arkadiusz/project_04.ipynb\" target=\"_parent\"><img src=\"https://colab.research.google.com/assets/colab-badge.svg\" alt=\"Open In Colab\"/></a>"
      ]
    },
    {
      "cell_type": "code",
      "metadata": {
        "colab": {
          "base_uri": "https://localhost:8080/"
        },
        "id": "6XdUIAUejBL1",
        "outputId": "80fc9d99-d9c4-4417-c826-b3e86accbe0a"
      },
      "source": [
        "!pip install astropy\n",
        "!pip install astroplan"
      ],
      "execution_count": 1,
      "outputs": [
        {
          "output_type": "stream",
          "text": [
            "Requirement already satisfied: astropy in /usr/local/lib/python3.6/dist-packages (4.1)\n",
            "Requirement already satisfied: numpy>=1.16 in /usr/local/lib/python3.6/dist-packages (from astropy) (1.18.5)\n",
            "Requirement already satisfied: astroplan in /usr/local/lib/python3.6/dist-packages (0.7)\n",
            "Requirement already satisfied: six in /usr/local/lib/python3.6/dist-packages (from astroplan) (1.15.0)\n",
            "Requirement already satisfied: pytz in /usr/local/lib/python3.6/dist-packages (from astroplan) (2018.9)\n",
            "Requirement already satisfied: numpy>=1.10 in /usr/local/lib/python3.6/dist-packages (from astroplan) (1.18.5)\n",
            "Requirement already satisfied: astropy>=1.3 in /usr/local/lib/python3.6/dist-packages (from astroplan) (4.1)\n"
          ],
          "name": "stdout"
        }
      ]
    },
    {
      "cell_type": "code",
      "metadata": {
        "colab": {
          "base_uri": "https://localhost:8080/"
        },
        "id": "Vv9v9gObj08v",
        "outputId": "297956b3-33ef-41c2-f593-3b51f654890f"
      },
      "source": [
        "!pip install timezonefinder[numba]\n",
        "!pip install geopy"
      ],
      "execution_count": 2,
      "outputs": [
        {
          "output_type": "stream",
          "text": [
            "Requirement already satisfied: timezonefinder[numba] in /usr/local/lib/python3.6/dist-packages (4.5.0)\n",
            "Requirement already satisfied: numpy>=1.16 in /usr/local/lib/python3.6/dist-packages (from timezonefinder[numba]) (1.18.5)\n",
            "Requirement already satisfied: numba>=0.48; extra == \"numba\" in /usr/local/lib/python3.6/dist-packages (from timezonefinder[numba]) (0.48.0)\n",
            "Requirement already satisfied: llvmlite<0.32.0,>=0.31.0dev0 in /usr/local/lib/python3.6/dist-packages (from numba>=0.48; extra == \"numba\"->timezonefinder[numba]) (0.31.0)\n",
            "Requirement already satisfied: setuptools in /usr/local/lib/python3.6/dist-packages (from numba>=0.48; extra == \"numba\"->timezonefinder[numba]) (50.3.2)\n",
            "Requirement already satisfied: geopy in /usr/local/lib/python3.6/dist-packages (1.17.0)\n",
            "Requirement already satisfied: geographiclib<2,>=1.49 in /usr/local/lib/python3.6/dist-packages (from geopy) (1.50)\n"
          ],
          "name": "stdout"
        }
      ]
    },
    {
      "cell_type": "code",
      "metadata": {
        "id": "yjYEWbpVj2mn"
      },
      "source": [
        "from astropy import constants as const\n",
        "from astropy import units as u\n",
        "import numpy as np\n",
        "import matplotlib\n",
        "%matplotlib inline\n",
        "from matplotlib import pylab as plt\n",
        "from astroplan import Observer\n",
        "from astropy.time import Time\n",
        "import pytz\n",
        "from timezonefinder import TimezoneFinder\n",
        "from geopy import geocoders\n",
        "from astroplan.plots import plot_sky\n",
        "from astropy.coordinates import SkyCoord\n",
        "from astroplan import FixedTarget"
      ],
      "execution_count": 3,
      "outputs": []
    },
    {
      "cell_type": "code",
      "metadata": {
        "colab": {
          "base_uri": "https://localhost:8080/"
        },
        "id": "7dXYK5Kxj4uH",
        "outputId": "432ff998-ed5f-4a16-e927-fdbbecca8177"
      },
      "source": [
        "local_tz = pytz.timezone('Europe/Warsaw')\n",
        "local_tz"
      ],
      "execution_count": 4,
      "outputs": [
        {
          "output_type": "execute_result",
          "data": {
            "text/plain": [
              "<DstTzInfo 'Europe/Warsaw' LMT+1:24:00 STD>"
            ]
          },
          "metadata": {
            "tags": []
          },
          "execution_count": 4
        }
      ]
    },
    {
      "cell_type": "code",
      "metadata": {
        "colab": {
          "base_uri": "https://localhost:8080/"
        },
        "id": "A9QtTxsaj6e5",
        "outputId": "1f6369eb-cef3-42f7-8019-421fd52ba2f2"
      },
      "source": [
        "katowice = Observer(longitude=19*u.deg + 1*u.arcmin, latitude=50*u.deg + 16 * u.arcmin, elevation=230*u.m, name=\"Katowice\", timezone=local_tz)\n",
        "katowice"
      ],
      "execution_count": 5,
      "outputs": [
        {
          "output_type": "execute_result",
          "data": {
            "text/plain": [
              "<Observer: name='Katowice',\n",
              "    location (lon, lat, el)=(19.016666666666666 deg, 50.266666666666666 deg, 230.00000000008052 m),\n",
              "    timezone=<DstTzInfo 'Europe/Warsaw' LMT+1:24:00 STD>>"
            ]
          },
          "metadata": {
            "tags": []
          },
          "execution_count": 5
        }
      ]
    },
    {
      "cell_type": "code",
      "metadata": {
        "colab": {
          "base_uri": "https://localhost:8080/"
        },
        "id": "dJeNY5mPj8cQ",
        "outputId": "eeaa9aee-84f2-43a6-88e9-eb730ac3919f"
      },
      "source": [
        "nowtime = Time.now()\n",
        "nowtime"
      ],
      "execution_count": 6,
      "outputs": [
        {
          "output_type": "execute_result",
          "data": {
            "text/plain": [
              "<Time object: scale='utc' format='datetime' value=2020-11-24 11:37:36.089217>"
            ]
          },
          "metadata": {
            "tags": []
          },
          "execution_count": 6
        }
      ]
    },
    {
      "cell_type": "code",
      "metadata": {
        "colab": {
          "base_uri": "https://localhost:8080/"
        },
        "id": "Gn0yhWv7j-ER",
        "outputId": "8c8ffe3a-3f50-405e-c369-c67ced5a0336"
      },
      "source": [
        "nowtime.to_datetime(timezone=local_tz)"
      ],
      "execution_count": 7,
      "outputs": [
        {
          "output_type": "execute_result",
          "data": {
            "text/plain": [
              "datetime.datetime(2020, 11, 24, 12, 37, 36, 89217, tzinfo=<DstTzInfo 'Europe/Warsaw' CET+1:00:00 STD>)"
            ]
          },
          "metadata": {
            "tags": []
          },
          "execution_count": 7
        }
      ]
    },
    {
      "cell_type": "code",
      "metadata": {
        "id": "JLyY5HYjj_md"
      },
      "source": [
        "sunrise = katowice.sun_rise_time(nowtime)"
      ],
      "execution_count": 8,
      "outputs": []
    },
    {
      "cell_type": "code",
      "metadata": {
        "colab": {
          "base_uri": "https://localhost:8080/"
        },
        "id": "2mVe7uZskA60",
        "outputId": "98e3c1a1-46c2-4f61-90c5-0e6df644a118"
      },
      "source": [
        "sunrise.ymdhms"
      ],
      "execution_count": 9,
      "outputs": [
        {
          "output_type": "execute_result",
          "data": {
            "text/plain": [
              "(2020, 11, 24, 6, 18, 30.90932339)"
            ]
          },
          "metadata": {
            "tags": []
          },
          "execution_count": 9
        }
      ]
    },
    {
      "cell_type": "code",
      "metadata": {
        "colab": {
          "base_uri": "https://localhost:8080/"
        },
        "id": "XH8GGg08kDU7",
        "outputId": "83cbb79f-1f21-4520-f507-3bad55240288"
      },
      "source": [
        "result = katowice.sun_altaz(sunrise)\n",
        "result"
      ],
      "execution_count": 10,
      "outputs": [
        {
          "output_type": "execute_result",
          "data": {
            "text/plain": [
              "<SkyCoord (AltAz: obstime=2459177.762857747, location=(3862287.59388808, 1331149.09201147, 4881979.18528353) m, pressure=0.0 hPa, temperature=0.0 deg_C, relative_humidity=0.0, obswl=1.0 micron): (az, alt, distance) in (deg, deg, m)\n",
              "    (123.47822779, 0.00018074, 1.47687083e+11)>"
            ]
          },
          "metadata": {
            "tags": []
          },
          "execution_count": 10
        }
      ]
    },
    {
      "cell_type": "code",
      "metadata": {
        "id": "2yd5WB1VkRua"
      },
      "source": [
        "# Klasa - arg1= lokalizacja (string, format: 'Miasto, Kraj'), arg2= data (format: \"RRRR-MM-DD\", ale może działają też inne, trzeba sprawdzić)\n",
        "class TravelerInTimeAndSapce():\n",
        "    def __init__(self, location, date):\n",
        "        locator = geocoders.Nominatim(user_agent='myGeocoder').geocode(location)\n",
        "        date_time = Time\n",
        "        timezone = TimezoneFinder().timezone_at(lng=locator.longitude , lat=locator.latitude)\n",
        "        self.lat = locator.latitude * u.deg\n",
        "        self.lon = locator.longitude * u.deg\n",
        "        self.address = locator.address\n",
        "        self.time = Time(date).to_datetime(pytz.timezone(timezone))\n",
        "        self.tzname = self.time.timetz().tzname()\n",
        "    def __repr__(self):\n",
        "        return ('lat=' + str(self.lat) + \n",
        "            '; lon=' + str(self.lon) + \n",
        "            '; address=' + str(self.address) + \n",
        "            '; time=' + str(self.time) + \n",
        "            '; tz=' + str(self.tzname))"
      ],
      "execution_count": 11,
      "outputs": []
    },
    {
      "cell_type": "code",
      "metadata": {
        "colab": {
          "base_uri": "https://localhost:8080/"
        },
        "id": "yRspvHnTkTVd",
        "outputId": "7635912e-3e03-40c9-bd4a-5448aaa301d7"
      },
      "source": [
        "# Użycie i wywołanie metod powyższej klasy\n",
        "traveler = TravelerInTimeAndSapce('Paris, France', '1999-01-01')\n",
        "print(traveler.address)\n",
        "print(traveler.lat, traveler.lon)\n",
        "print(traveler.time)\n",
        "print(traveler.tzname)\n",
        "traveler"
      ],
      "execution_count": 12,
      "outputs": [
        {
          "output_type": "stream",
          "text": [
            "Paris, Île-de-France, France métropolitaine, 75004, France\n",
            "48.8566969 deg 2.3514616 deg\n",
            "1999-01-01 01:00:00+01:00\n",
            "Europe/Paris\n"
          ],
          "name": "stdout"
        },
        {
          "output_type": "execute_result",
          "data": {
            "text/plain": [
              "lat=48.8566969 deg; lon=2.3514616 deg; address=Paris, Île-de-France, France métropolitaine, 75004, France; time=1999-01-01 01:00:00+01:00; tz=Europe/Paris"
            ]
          },
          "metadata": {
            "tags": []
          },
          "execution_count": 12
        }
      ]
    },
    {
      "cell_type": "code",
      "metadata": {
        "id": "6M59v_d5CnAN"
      },
      "source": [
        "observe_time = Time('2000-03-15 00:00:00')\n",
        "observe_time = observe_time + np.linspace(0, 24, 13)*u.hour"
      ],
      "execution_count": 13,
      "outputs": []
    },
    {
      "cell_type": "code",
      "metadata": {
        "colab": {
          "base_uri": "https://localhost:8080/"
        },
        "id": "c0rWAfMaurUF",
        "outputId": "5b67136b-7933-4a67-9e28-711acf3e0893"
      },
      "source": [
        "# Tutaj przykład z danymi\n",
        "# Powinno to wyglądać podobnie w finalnej wersji\n",
        "# Poniżej użyłem matplotliba do zrobienia wykresu typu polar, wydaje mi się że jest ok\n",
        "# UWAGA azymut podawany jest w radianach na potrzeby wykresu typu polar\n",
        "\n",
        "obs_time = katowice.sun_altaz(observe_time).obstime.value\n",
        "obs_sun_az = katowice.sun_altaz(observe_time).az.radian\n",
        "obs_sun_alt = katowice.sun_altaz(observe_time).alt.value\n",
        "obs_moon_az = katowice.moon_altaz(observe_time).az.radian\n",
        "obs_moon_alt = katowice.moon_altaz(observe_time).alt.value\n",
        "obs_sun_alt"
      ],
      "execution_count": 14,
      "outputs": [
        {
          "output_type": "execute_result",
          "data": {
            "text/plain": [
              "array([-39.7785936 , -27.72564453,  -9.98457662,   9.06979714,\n",
              "        26.05351968,  36.58170926,  35.87361486,  24.33600307,\n",
              "         6.94797481, -12.07554541, -29.32739624, -40.20281093,\n",
              "       -39.37813256])"
            ]
          },
          "metadata": {
            "tags": []
          },
          "execution_count": 14
        }
      ]
    },
    {
      "cell_type": "code",
      "metadata": {
        "colab": {
          "base_uri": "https://localhost:8080/",
          "height": 335
        },
        "id": "HPSyL5iNrfq3",
        "outputId": "c3d2fb37-869f-4213-cc58-b56f95cc05dd"
      },
      "source": [
        "fig = plt.figure()\n",
        "ax = fig.add_subplot(111, projection='polar')\n",
        "c = ax.scatter(obs_sun_az, obs_sun_alt)\n",
        "\n",
        "for i, txt in enumerate(obs_time):\n",
        "    ax.annotate(txt[11:13], (obs_sun_az[i], obs_sun_alt[i]))\n",
        "\n",
        "\n",
        "ax.set_theta_zero_location('N')\n",
        "ax.set_rlim(90, 0, 1)\n"
      ],
      "execution_count": 15,
      "outputs": [
        {
          "output_type": "execute_result",
          "data": {
            "text/plain": [
              "(90.0, 0.0)"
            ]
          },
          "metadata": {
            "tags": []
          },
          "execution_count": 15
        },
        {
          "output_type": "display_data",
          "data": {
            "image/png": "[encoded data removed]",
            "text/plain": [
              "<Figure size 432x288 with 1 Axes>"
            ]
          },
          "metadata": {
            "tags": [],
            "needs_background": "light"
          }
        }
      ]
    }
  ]
}