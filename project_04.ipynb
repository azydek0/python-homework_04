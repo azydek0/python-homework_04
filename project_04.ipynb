{
  "nbformat": 4,
  "nbformat_minor": 0,
  "metadata": {
    "colab": {
      "name": "project_04.ipynb",
      "provenance": [],
      "collapsed_sections": [],
      "authorship_tag": "ABX9TyMsmmS5ZBH2eQJr3G8Vcj3E",
      "include_colab_link": true
    },
    "kernelspec": {
      "name": "python3",
      "display_name": "Python 3"
    }
  },
  "cells": [
    {
      "cell_type": "markdown",
      "metadata": {
        "id": "view-in-github",
        "colab_type": "text"
      },
      "source": [
        "<a href=\"https://colab.research.google.com/github/azydek0/python-homework_04/blob/arkadiusz/project_04.ipynb\" target=\"_parent\"><img src=\"https://colab.research.google.com/assets/colab-badge.svg\" alt=\"Open In Colab\"/></a>"
      ]
    },
    {
      "cell_type": "code",
      "metadata": {
        "colab": {
          "base_uri": "https://localhost:8080/"
        },
        "id": "6XdUIAUejBL1",
        "outputId": "867da096-90a6-4eb5-e788-ff6938af7ddc"
      },
      "source": [
        "!pip install astropy\n",
        "!pip install astroplan"
      ],
      "execution_count": 4,
      "outputs": [
        {
          "output_type": "stream",
          "text": [
            "Requirement already satisfied: astropy in /usr/local/lib/python3.6/dist-packages (4.1)\n",
            "Requirement already satisfied: numpy>=1.16 in /usr/local/lib/python3.6/dist-packages (from astropy) (1.18.5)\n",
            "Requirement already satisfied: astroplan in /usr/local/lib/python3.6/dist-packages (0.7)\n",
            "Requirement already satisfied: numpy>=1.10 in /usr/local/lib/python3.6/dist-packages (from astroplan) (1.18.5)\n",
            "Requirement already satisfied: six in /usr/local/lib/python3.6/dist-packages (from astroplan) (1.15.0)\n",
            "Requirement already satisfied: astropy>=1.3 in /usr/local/lib/python3.6/dist-packages (from astroplan) (4.1)\n",
            "Requirement already satisfied: pytz in /usr/local/lib/python3.6/dist-packages (from astroplan) (2018.9)\n"
          ],
          "name": "stdout"
        }
      ]
    },
    {
      "cell_type": "code",
      "metadata": {
        "colab": {
          "base_uri": "https://localhost:8080/"
        },
        "id": "Vv9v9gObj08v",
        "outputId": "8829ec0a-89a6-46f3-d150-f9826d3ae8f6"
      },
      "source": [
        "!pip install timezonefinder[numba]\n",
        "!pip install geopy"
      ],
      "execution_count": 5,
      "outputs": [
        {
          "output_type": "stream",
          "text": [
            "Requirement already satisfied: timezonefinder[numba] in /usr/local/lib/python3.6/dist-packages (4.5.0)\n",
            "Requirement already satisfied: numpy>=1.16 in /usr/local/lib/python3.6/dist-packages (from timezonefinder[numba]) (1.18.5)\n",
            "Requirement already satisfied: numba>=0.48; extra == \"numba\" in /usr/local/lib/python3.6/dist-packages (from timezonefinder[numba]) (0.48.0)\n",
            "Requirement already satisfied: llvmlite<0.32.0,>=0.31.0dev0 in /usr/local/lib/python3.6/dist-packages (from numba>=0.48; extra == \"numba\"->timezonefinder[numba]) (0.31.0)\n",
            "Requirement already satisfied: setuptools in /usr/local/lib/python3.6/dist-packages (from numba>=0.48; extra == \"numba\"->timezonefinder[numba]) (50.3.2)\n",
            "Requirement already satisfied: geopy in /usr/local/lib/python3.6/dist-packages (1.17.0)\n",
            "Requirement already satisfied: geographiclib<2,>=1.49 in /usr/local/lib/python3.6/dist-packages (from geopy) (1.50)\n"
          ],
          "name": "stdout"
        }
      ]
    },
    {
      "cell_type": "code",
      "metadata": {
        "id": "yjYEWbpVj2mn"
      },
      "source": [
        "from astropy import constants as const\n",
        "from astropy import units as u\n",
        "import numpy as np\n",
        "import matplotlib\n",
        "%matplotlib inline\n",
        "from matplotlib import pylab as plt\n",
        "from astroplan import Observer\n",
        "from astropy.time import Time\n",
        "import pytz\n",
        "from timezonefinder import TimezoneFinder\n",
        "from geopy import geocoders"
      ],
      "execution_count": 6,
      "outputs": []
    },
    {
      "cell_type": "code",
      "metadata": {
        "colab": {
          "base_uri": "https://localhost:8080/"
        },
        "id": "7dXYK5Kxj4uH",
        "outputId": "1d6702cd-faf5-4c5d-ccb2-74bd471f853d"
      },
      "source": [
        "local_tz = pytz.timezone('Europe/Warsaw')\n",
        "local_tz"
      ],
      "execution_count": 7,
      "outputs": [
        {
          "output_type": "execute_result",
          "data": {
            "text/plain": [
              "<DstTzInfo 'Europe/Warsaw' LMT+1:24:00 STD>"
            ]
          },
          "metadata": {
            "tags": []
          },
          "execution_count": 7
        }
      ]
    },
    {
      "cell_type": "code",
      "metadata": {
        "colab": {
          "base_uri": "https://localhost:8080/"
        },
        "id": "A9QtTxsaj6e5",
        "outputId": "daaf50f3-24dd-4e8d-c896-cbe9b7fff63d"
      },
      "source": [
        "katowice = Observer(longitude=19*u.deg + 1*u.arcmin, latitude=50*u.deg + 16 * u.arcmin, elevation=230*u.m, name=\"Katowice\", timezone=local_tz)\n",
        "katowice"
      ],
      "execution_count": 8,
      "outputs": [
        {
          "output_type": "execute_result",
          "data": {
            "text/plain": [
              "<Observer: name='Katowice',\n",
              "    location (lon, lat, el)=(19.016666666666666 deg, 50.266666666666666 deg, 230.00000000008052 m),\n",
              "    timezone=<DstTzInfo 'Europe/Warsaw' LMT+1:24:00 STD>>"
            ]
          },
          "metadata": {
            "tags": []
          },
          "execution_count": 8
        }
      ]
    },
    {
      "cell_type": "code",
      "metadata": {
        "colab": {
          "base_uri": "https://localhost:8080/"
        },
        "id": "dJeNY5mPj8cQ",
        "outputId": "8830cc65-2eea-481c-dd0a-614c8de9f6d5"
      },
      "source": [
        "nowtime = Time.now()\n",
        "nowtime"
      ],
      "execution_count": 9,
      "outputs": [
        {
          "output_type": "execute_result",
          "data": {
            "text/plain": [
              "<Time object: scale='utc' format='datetime' value=2020-11-23 20:02:51.326950>"
            ]
          },
          "metadata": {
            "tags": []
          },
          "execution_count": 9
        }
      ]
    },
    {
      "cell_type": "code",
      "metadata": {
        "colab": {
          "base_uri": "https://localhost:8080/"
        },
        "id": "Gn0yhWv7j-ER",
        "outputId": "4a83426d-5167-4e2e-a448-f8e337670a53"
      },
      "source": [
        "nowtime.to_datetime(timezone=local_tz)"
      ],
      "execution_count": 10,
      "outputs": [
        {
          "output_type": "execute_result",
          "data": {
            "text/plain": [
              "datetime.datetime(2020, 11, 23, 21, 2, 51, 326950, tzinfo=<DstTzInfo 'Europe/Warsaw' CET+1:00:00 STD>)"
            ]
          },
          "metadata": {
            "tags": []
          },
          "execution_count": 10
        }
      ]
    },
    {
      "cell_type": "code",
      "metadata": {
        "id": "JLyY5HYjj_md"
      },
      "source": [
        "sunrise = katowice.sun_rise_time(nowtime)"
      ],
      "execution_count": 11,
      "outputs": []
    },
    {
      "cell_type": "code",
      "metadata": {
        "colab": {
          "base_uri": "https://localhost:8080/"
        },
        "id": "2mVe7uZskA60",
        "outputId": "0ccf9c6a-7412-4d34-8095-083fd0761f67"
      },
      "source": [
        "sunrise.ymdhms"
      ],
      "execution_count": 12,
      "outputs": [
        {
          "output_type": "execute_result",
          "data": {
            "text/plain": [
              "(2020, 11, 24, 6, 18, 32.14226782)"
            ]
          },
          "metadata": {
            "tags": []
          },
          "execution_count": 12
        }
      ]
    },
    {
      "cell_type": "code",
      "metadata": {
        "colab": {
          "base_uri": "https://localhost:8080/"
        },
        "id": "XH8GGg08kDU7",
        "outputId": "fafadc72-5ad1-498f-ce26-b3147b25eb58"
      },
      "source": [
        "result = katowice.sun_altaz(sunrise)\n",
        "result"
      ],
      "execution_count": 13,
      "outputs": [
        {
          "output_type": "execute_result",
          "data": {
            "text/plain": [
              "<SkyCoord (AltAz: obstime=2459177.762872017, location=(3862287.59388808, 1331149.09201147, 4881979.18528353) m, pressure=0.0 hPa, temperature=0.0 deg_C, relative_humidity=0.0, obswl=1.0 micron): (az, alt, distance) in (deg, deg, m)\n",
              "    (123.48217942, 0.0029168, 1.47687082e+11)>"
            ]
          },
          "metadata": {
            "tags": []
          },
          "execution_count": 13
        }
      ]
    },
    {
      "cell_type": "code",
      "metadata": {
        "id": "2yd5WB1VkRua"
      },
      "source": [
        "# Klasa - arg1= lokalizacja (string, format: 'Miasto, Kraj'), arg2= data (format: \"RRRR-MM-DD\", ale może działają też inne, trzeba sprawdzić)\n",
        "class TravelerInTimeAndSapce():\n",
        "    def __init__(self, location, date):\n",
        "        locator = geocoders.Nominatim(user_agent='myGeocoder').geocode(location)\n",
        "        date_time = Time\n",
        "        timezone = TimezoneFinder().timezone_at(lng=locator.longitude , lat=locator.latitude)\n",
        "        self.lat = locator.latitude * u.deg\n",
        "        self.lon = locator.longitude * u.deg\n",
        "        self.address = locator.address\n",
        "        self.time = Time(date).to_datetime(pytz.timezone(timezone))\n",
        "        self.tzname = self.time.timetz().tzname()\n",
        "    def __repr__(self):\n",
        "        return ('lat=' + str(self.lat) + \n",
        "            '; lon=' + str(self.lon) + \n",
        "            '; address=' + str(self.address) + \n",
        "            '; time=' + str(self.time) + \n",
        "            '; tz=' + str(self.tzname))"
      ],
      "execution_count": 27,
      "outputs": []
    },
    {
      "cell_type": "code",
      "metadata": {
        "colab": {
          "base_uri": "https://localhost:8080/"
        },
        "id": "yRspvHnTkTVd",
        "outputId": "83b712c0-262a-4168-ba03-657b5f91f6e3"
      },
      "source": [
        "# Użycie i wywołanie metod powyższej klasy\n",
        "traveler = TravelerInTimeAndSapce('Paris, France', '1999-01-01')\n",
        "print(traveler.address)\n",
        "print(traveler.lat, traveler.lon)\n",
        "print(traveler.time)\n",
        "print(traveler.tzname)\n",
        "traveler"
      ],
      "execution_count": 21,
      "outputs": [
        {
          "output_type": "stream",
          "text": [
            "Paris, Île-de-France, France métropolitaine, 75004, France\n",
            "48.8566969 deg 2.3514616 deg\n",
            "1999-01-01 01:00:00+01:00\n",
            "Europe/Paris\n"
          ],
          "name": "stdout"
        },
        {
          "output_type": "execute_result",
          "data": {
            "text/plain": [
              "lat=48.8566969 deg; lon=2.3514616 deg; address=Paris, Île-de-France, France métropolitaine, 75004, France; time=1999-01-01 01:00:00+01:00; tz=Europe/Paris"
            ]
          },
          "metadata": {
            "tags": []
          },
          "execution_count": 21
        }
      ]
    }
  ]
}