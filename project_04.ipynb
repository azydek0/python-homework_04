{
  "nbformat": 4,
  "nbformat_minor": 0,
  "metadata": {
    "colab": {
      "name": "project_04.ipynb",
      "provenance": [],
      "collapsed_sections": [],
      "authorship_tag": "ABX9TyNJQR+/bYvTjaWlIwBLth0n",
      "include_colab_link": true
    },
    "kernelspec": {
      "name": "python3",
      "display_name": "Python 3"
    }
  },
  "cells": [
    {
      "cell_type": "markdown",
      "metadata": {
        "id": "view-in-github",
        "colab_type": "text"
      },
      "source": [
        "<a href=\"https://colab.research.google.com/github/azydek0/python-homework_04/blob/arkadiusz/project_04.ipynb\" target=\"_parent\"><img src=\"https://colab.research.google.com/assets/colab-badge.svg\" alt=\"Open In Colab\"/></a>"
      ]
    },
    {
      "cell_type": "code",
      "metadata": {
        "colab": {
          "base_uri": "https://localhost:8080/"
        },
        "id": "6XdUIAUejBL1",
        "outputId": "53a9ae90-d6c4-498d-ca2b-76970f246b2a"
      },
      "source": [
        "!pip install astropy\n",
        "!pip install astroplan\n",
        "!pip install timezonefinder[numba]\n",
        "!pip install geopy"
      ],
      "execution_count": 1,
      "outputs": [
        {
          "output_type": "stream",
          "text": [
            "Requirement already satisfied: astropy in /usr/local/lib/python3.6/dist-packages (4.1)\n",
            "Requirement already satisfied: numpy>=1.16 in /usr/local/lib/python3.6/dist-packages (from astropy) (1.18.5)\n",
            "Requirement already satisfied: astroplan in /usr/local/lib/python3.6/dist-packages (0.7)\n",
            "Requirement already satisfied: astropy>=1.3 in /usr/local/lib/python3.6/dist-packages (from astroplan) (4.1)\n",
            "Requirement already satisfied: pytz in /usr/local/lib/python3.6/dist-packages (from astroplan) (2018.9)\n",
            "Requirement already satisfied: six in /usr/local/lib/python3.6/dist-packages (from astroplan) (1.15.0)\n",
            "Requirement already satisfied: numpy>=1.10 in /usr/local/lib/python3.6/dist-packages (from astroplan) (1.18.5)\n",
            "Requirement already satisfied: timezonefinder[numba] in /usr/local/lib/python3.6/dist-packages (4.5.0)\n",
            "Requirement already satisfied: numpy>=1.16 in /usr/local/lib/python3.6/dist-packages (from timezonefinder[numba]) (1.18.5)\n",
            "Requirement already satisfied: numba>=0.48; extra == \"numba\" in /usr/local/lib/python3.6/dist-packages (from timezonefinder[numba]) (0.48.0)\n",
            "Requirement already satisfied: llvmlite<0.32.0,>=0.31.0dev0 in /usr/local/lib/python3.6/dist-packages (from numba>=0.48; extra == \"numba\"->timezonefinder[numba]) (0.31.0)\n",
            "Requirement already satisfied: setuptools in /usr/local/lib/python3.6/dist-packages (from numba>=0.48; extra == \"numba\"->timezonefinder[numba]) (50.3.2)\n",
            "Requirement already satisfied: geopy in /usr/local/lib/python3.6/dist-packages (1.17.0)\n",
            "Requirement already satisfied: geographiclib<2,>=1.49 in /usr/local/lib/python3.6/dist-packages (from geopy) (1.50)\n"
          ],
          "name": "stdout"
        }
      ]
    },
    {
      "cell_type": "code",
      "metadata": {
        "id": "yjYEWbpVj2mn"
      },
      "source": [
        "import matplotlib\n",
        "import numpy as np\n",
        "import pytz\n",
        "from astroplan import Observer\n",
        "from astropy import units as u\n",
        "from astropy.time import Time\n",
        "from geopy import geocoders\n",
        "from matplotlib import pylab as plt\n",
        "from matplotlib.ticker import EngFormatter\n",
        "from timezonefinder import TimezoneFinder\n",
        "%matplotlib inline"
      ],
      "execution_count": 2,
      "outputs": []
    },
    {
      "cell_type": "code",
      "metadata": {
        "id": "i5_rUgWm5NCP"
      },
      "source": [
        "# Input variables\n",
        "# Localization - fomat: 'City, Country'\n",
        "city = 'Paris, France'\n",
        "\n",
        "# Date = format: 'YYYY-MM-DD'\n",
        "date_city = '2004-05-20'"
      ],
      "execution_count": 3,
      "outputs": []
    },
    {
      "cell_type": "code",
      "metadata": {
        "id": "2yd5WB1VkRua"
      },
      "source": [
        "# Klasa - arg1= lokalizacja (string, format: 'Miasto, Kraj'), arg2= data (format: \"RRRR-MM-DD\", ale może działają też inne, trzeba sprawdzić)\n",
        "class TravelerInTimeAndSapce():\n",
        "    def __init__(self, location, date):\n",
        "        locator = geocoders.Nominatim(user_agent='myGeocoder').geocode(location)\n",
        "        date_time = Time\n",
        "        timezone = TimezoneFinder().timezone_at(lng=locator.longitude , lat=locator.latitude)\n",
        "        self.lat = locator.latitude * u.deg\n",
        "        self.lon = locator.longitude * u.deg\n",
        "        self.address = locator.address\n",
        "        self.time = Time(date).to_datetime(pytz.timezone(timezone))\n",
        "        self.tzname = self.time.timetz().tzname()\n",
        "    def __repr__(self):\n",
        "        return ('lat=' + str(self.lat) + \n",
        "            '; lon=' + str(self.lon) + \n",
        "            '; address=' + str(self.address) + \n",
        "            '; time=' + str(self.time) + \n",
        "            '; tz=' + str(self.tzname))"
      ],
      "execution_count": 4,
      "outputs": []
    },
    {
      "cell_type": "code",
      "metadata": {
        "id": "yRspvHnTkTVd"
      },
      "source": [
        "# Użycie i wywołanie metod powyższej klasy\n",
        "traveler = TravelerInTimeAndSapce(city, date_city)"
      ],
      "execution_count": 5,
      "outputs": []
    },
    {
      "cell_type": "code",
      "metadata": {
        "id": "2rYuUjSyEiDi"
      },
      "source": [
        "# Set observer and time ticks\n",
        "observe_time = Time(traveler.time)\n",
        "observe_time = observe_time + np.linspace(0, 24, 13)*u.hour\n",
        "observer = Observer(\n",
        "    longitude=traveler.lon, \n",
        "    latitude=traveler.lat, \n",
        "    elevation=230*u.m, \n",
        "    name=traveler.address, \n",
        "    timezone=traveler.tzname)"
      ],
      "execution_count": 6,
      "outputs": []
    },
    {
      "cell_type": "code",
      "metadata": {
        "id": "oLXQ0H0pQmbC"
      },
      "source": [
        "# function to convert from 'datetime' to 'iso'\n",
        "def iso_tz(date, tzname):\n",
        "    return date.to_datetime(timezone=pytz.timezone(tzname)).isoformat()"
      ],
      "execution_count": 7,
      "outputs": []
    },
    {
      "cell_type": "code",
      "metadata": {
        "id": "c0rWAfMaurUF"
      },
      "source": [
        "# Tutaj przykład z danymi\n",
        "# Powinno to wyglądać podobnie w finalnej wersji\n",
        "# Poniżej użyłem matplotliba do zrobienia wykresu typu polar, wydaje mi się że jest ok\n",
        "# UWAGA azymut podawany jest w radianach na potrzeby wykresu typu polar\n",
        "\n",
        "obs_time = observer.sun_altaz(observe_time).obstime\n",
        "# sun\n",
        "obs_sun_az = observer.sun_altaz(observe_time).az.radian\n",
        "obs_sun_alt = observer.sun_altaz(observe_time).alt.value\n",
        "# moon\n",
        "obs_moon_az = observer.moon_altaz(observe_time).az.radian\n",
        "obs_moon_alt = observer.moon_altaz(observe_time).alt.value\n",
        "# sunrise\n",
        "obs_sun_rise_time = observer.sun_rise_time(observe_time[1], which='next')\n",
        "obs_sun_rise_az = observer.sun_altaz(obs_sun_rise_time).az.radian\n",
        "# sunset\n",
        "obs_sun_set_time = observer.sun_set_time(observe_time[1], which='next')\n",
        "obs_sun_set_az = observer.sun_altaz(obs_sun_set_time).az.radian\n",
        "# noon\n",
        "obs_noon_time = observer.noon(observe_time[1], which='next')\n",
        "obs_noon_az = observer.sun_altaz(obs_noon_time).az.radian\n",
        "obs_noon_alt = observer.sun_altaz(obs_noon_time).az.radian\n",
        "# moonrise\n",
        "obs_moon_rise_time = observer.moon_rise_time(observe_time[1], which='next')\n",
        "obs_moon_rise_az = observer.moon_altaz(obs_moon_rise_time).az.radian\n",
        "# moonset\n",
        "obs_moon_set_time = observer.moon_set_time(observe_time[1], which='next')\n",
        "obs_moon_set_az = observer.sun_altaz(obs_moon_set_time).az.radian\n",
        "# midnight\n",
        "obs_midnight_time = observer.midnight(observe_time[1], which='next')\n",
        "obs_midnight_az = observer.sun_altaz(obs_midnight_time).az.radian\n",
        "obs_midnight_alt = observer.sun_altaz(obs_midnight_time).az.radian"
      ],
      "execution_count": 8,
      "outputs": []
    },
    {
      "cell_type": "code",
      "metadata": {
        "colab": {
          "base_uri": "https://localhost:8080/",
          "height": 301
        },
        "id": "HPSyL5iNrfq3",
        "outputId": "99a5780e-8898-46c8-cf5f-44a430d20045"
      },
      "source": [
        "# Example of interpretation data using matplotlib\n",
        "# UWAGA, trajektoria księżyca jest myląca. Wyświetlane są dane w danym dniu od godziny 00 do godz 24, więc nie ma punktów dla księżyca z dnia poprzedniego.\n",
        "fig = plt.figure()\n",
        "ax = fig.add_subplot(111, projection='polar')\n",
        "s = ax.scatter(obs_sun_az, obs_sun_alt)\n",
        "m = ax.scatter(obs_moon_az, obs_moon_alt)\n",
        "\n",
        "for i, txt in enumerate(obs_time):\n",
        "    ax.annotate(iso_tz(txt, traveler.tzname)[11:13], (obs_sun_az[i], obs_sun_alt[i]))\n",
        "\n",
        "for i, txt in enumerate(obs_time):\n",
        "    ax.annotate(iso_tz(txt, traveler.tzname)[11:13], (obs_moon_az[i], obs_moon_alt[i]))\n",
        "\n",
        "ax.set_theta_zero_location('N')\n",
        "ax.set_rlim(90, 0, 1)\n",
        "ax.set_rticks([90, 60, 30, 0])\n",
        "ax.yaxis.set_major_formatter(EngFormatter(unit=u\"°\"))"
      ],
      "execution_count": 9,
      "outputs": [
        {
          "output_type": "display_data",
          "data": {
            "image/png": "[encoded data removed]",
            "text/plain": [
              "<Figure size 432x288 with 1 Axes>"
            ]
          },
          "metadata": {
            "tags": [],
            "needs_background": "light"
          }
        }
      ]
    }
  ]
}