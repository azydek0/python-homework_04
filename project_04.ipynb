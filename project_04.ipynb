{
  "nbformat": 4,
  "nbformat_minor": 0,
  "metadata": {
    "colab": {
      "name": "project_04.ipynb",
      "provenance": [],
      "authorship_tag": "ABX9TyNdkYF8n6TrEvxZizgsjeIr",
      "include_colab_link": true
    },
    "kernelspec": {
      "name": "python3",
      "display_name": "Python 3"
    }
  },
  "cells": [
    {
      "cell_type": "markdown",
      "metadata": {
        "id": "view-in-github",
        "colab_type": "text"
      },
      "source": [
        "<a href=\"https://colab.research.google.com/github/azydek0/python-homework_04/blob/arkadiusz/project_04.ipynb\" target=\"_parent\"><img src=\"https://colab.research.google.com/assets/colab-badge.svg\" alt=\"Open In Colab\"/></a>"
      ]
    },
    {
      "cell_type": "code",
      "metadata": {
        "id": "6XdUIAUejBL1"
      },
      "source": [
        "!pip install astropy\n",
        "!pip install astroplan"
      ],
      "execution_count": null,
      "outputs": []
    },
    {
      "cell_type": "code",
      "metadata": {
        "colab": {
          "base_uri": "https://localhost:8080/"
        },
        "id": "Vv9v9gObj08v",
        "outputId": "0935aec0-1982-41aa-9d40-c665cb44077a"
      },
      "source": [
        "!pip install timezonefinder[numba]\n",
        "!pip install geopy"
      ],
      "execution_count": 2,
      "outputs": [
        {
          "output_type": "stream",
          "text": [
            "Collecting timezonefinder[numba]\n",
            "\u001b[?25l  Downloading https://files.pythonhosted.org/packages/1a/5f/af29a88d9ace9251b4b5a0156e45400ab18ebde6a05c2ea70cfdf6efee25/timezonefinder-4.5.0-py36.py37.py38-none-any.whl (39.8MB)\n",
            "\u001b[K     |████████████████████████████████| 39.8MB 110kB/s \n",
            "\u001b[?25hRequirement already satisfied: numpy>=1.16 in /usr/local/lib/python3.6/dist-packages (from timezonefinder[numba]) (1.18.5)\n",
            "Requirement already satisfied: numba>=0.48; extra == \"numba\" in /usr/local/lib/python3.6/dist-packages (from timezonefinder[numba]) (0.48.0)\n",
            "Requirement already satisfied: setuptools in /usr/local/lib/python3.6/dist-packages (from numba>=0.48; extra == \"numba\"->timezonefinder[numba]) (50.3.2)\n",
            "Requirement already satisfied: llvmlite<0.32.0,>=0.31.0dev0 in /usr/local/lib/python3.6/dist-packages (from numba>=0.48; extra == \"numba\"->timezonefinder[numba]) (0.31.0)\n",
            "Installing collected packages: timezonefinder\n",
            "Successfully installed timezonefinder-4.5.0\n",
            "Requirement already satisfied: geopy in /usr/local/lib/python3.6/dist-packages (1.17.0)\n",
            "Requirement already satisfied: geographiclib<2,>=1.49 in /usr/local/lib/python3.6/dist-packages (from geopy) (1.50)\n"
          ],
          "name": "stdout"
        }
      ]
    },
    {
      "cell_type": "code",
      "metadata": {
        "id": "yjYEWbpVj2mn"
      },
      "source": [
        "from astropy import constants as const\n",
        "from astropy import units as u\n",
        "import numpy as np\n",
        "import matplotlib\n",
        "%matplotlib inline\n",
        "from matplotlib import pylab as plt\n",
        "from astroplan import Observer\n",
        "from astropy.time import Time\n",
        "import pytz\n",
        "from timezonefinder import TimezoneFinder\n",
        "from geopy import geocoders"
      ],
      "execution_count": 3,
      "outputs": []
    },
    {
      "cell_type": "code",
      "metadata": {
        "colab": {
          "base_uri": "https://localhost:8080/"
        },
        "id": "7dXYK5Kxj4uH",
        "outputId": "ced222b5-4c39-4b98-ea86-222b9f827fea"
      },
      "source": [
        "local_tz = pytz.timezone('Europe/Warsaw')\n",
        "local_tz"
      ],
      "execution_count": 4,
      "outputs": [
        {
          "output_type": "execute_result",
          "data": {
            "text/plain": [
              "<DstTzInfo 'Europe/Warsaw' LMT+1:24:00 STD>"
            ]
          },
          "metadata": {
            "tags": []
          },
          "execution_count": 4
        }
      ]
    },
    {
      "cell_type": "code",
      "metadata": {
        "colab": {
          "base_uri": "https://localhost:8080/"
        },
        "id": "A9QtTxsaj6e5",
        "outputId": "0473b3f1-873b-4211-d4cb-904d5c01c0cb"
      },
      "source": [
        "katowice = Observer(longitude=19*u.deg + 1*u.arcmin, latitude=50*u.deg + 16 * u.arcmin, elevation=230*u.m, name=\"Katowice\", timezone=local_tz)\n",
        "katowice"
      ],
      "execution_count": 5,
      "outputs": [
        {
          "output_type": "execute_result",
          "data": {
            "text/plain": [
              "<Observer: name='Katowice',\n",
              "    location (lon, lat, el)=(19.016666666666666 deg, 50.266666666666666 deg, 230.00000000008052 m),\n",
              "    timezone=<DstTzInfo 'Europe/Warsaw' LMT+1:24:00 STD>>"
            ]
          },
          "metadata": {
            "tags": []
          },
          "execution_count": 5
        }
      ]
    },
    {
      "cell_type": "code",
      "metadata": {
        "colab": {
          "base_uri": "https://localhost:8080/"
        },
        "id": "dJeNY5mPj8cQ",
        "outputId": "51e56a86-5eb2-43d7-83f2-04ced3fe14f1"
      },
      "source": [
        "nowtime = Time.now()\n",
        "nowtime"
      ],
      "execution_count": 6,
      "outputs": [
        {
          "output_type": "execute_result",
          "data": {
            "text/plain": [
              "<Time object: scale='utc' format='datetime' value=2020-11-23 14:46:25.961868>"
            ]
          },
          "metadata": {
            "tags": []
          },
          "execution_count": 6
        }
      ]
    },
    {
      "cell_type": "code",
      "metadata": {
        "colab": {
          "base_uri": "https://localhost:8080/"
        },
        "id": "Gn0yhWv7j-ER",
        "outputId": "55836ba1-b830-4d19-adee-a8299b250acb"
      },
      "source": [
        "nowtime.to_datetime(timezone=local_tz)"
      ],
      "execution_count": 7,
      "outputs": [
        {
          "output_type": "execute_result",
          "data": {
            "text/plain": [
              "datetime.datetime(2020, 11, 23, 15, 46, 25, 961868, tzinfo=<DstTzInfo 'Europe/Warsaw' CET+1:00:00 STD>)"
            ]
          },
          "metadata": {
            "tags": []
          },
          "execution_count": 7
        }
      ]
    },
    {
      "cell_type": "code",
      "metadata": {
        "id": "JLyY5HYjj_md"
      },
      "source": [
        "sunrise = katowice.sun_rise_time(nowtime)"
      ],
      "execution_count": 8,
      "outputs": []
    },
    {
      "cell_type": "code",
      "metadata": {
        "colab": {
          "base_uri": "https://localhost:8080/"
        },
        "id": "2mVe7uZskA60",
        "outputId": "13ff5343-264c-4242-bdaf-d2ae4014c0ea"
      },
      "source": [
        "sunrise.ymdhms"
      ],
      "execution_count": 9,
      "outputs": [
        {
          "output_type": "execute_result",
          "data": {
            "text/plain": [
              "(2020, 11, 23, 6, 17, 0.11943162)"
            ]
          },
          "metadata": {
            "tags": []
          },
          "execution_count": 9
        }
      ]
    },
    {
      "cell_type": "code",
      "metadata": {
        "colab": {
          "base_uri": "https://localhost:8080/"
        },
        "id": "XH8GGg08kDU7",
        "outputId": "da5678d8-2823-4193-9f83-fa6342fa9fc6"
      },
      "source": [
        "result = katowice.sun_altaz(sunrise)\n",
        "result"
      ],
      "execution_count": 17,
      "outputs": [
        {
          "output_type": "execute_result",
          "data": {
            "text/plain": [
              "<SkyCoord (AltAz: obstime=2459176.761806938, location=(3862287.59388808, 1331149.09201147, 4881979.18528353) m, pressure=0.0 hPa, temperature=0.0 deg_C, relative_humidity=0.0, obswl=1.0 micron): (az, alt, distance) in (deg, deg, m)\n",
              "    (123.12736505, 0.00277143, 1.4771648e+11)>"
            ]
          },
          "metadata": {
            "tags": []
          },
          "execution_count": 17
        }
      ]
    },
    {
      "cell_type": "code",
      "metadata": {
        "id": "2yd5WB1VkRua"
      },
      "source": [
        "# Klasa - arg1= lokalizacja (string, format: 'Miasto, Kraj'), arg2= data (format: \"RRRR-MM-DD\", ale może działają też inne, trzeba sprawdzić)\n",
        "class TravelerInTimeAndSapce():\n",
        "    lat = np.nan * u.deg \n",
        "    lon = np.nan * u.deg\n",
        "    tzname = ''\n",
        "    address = ''\n",
        "    time = ''\n",
        "    def __init__(self, location, date):\n",
        "        locator = geocoders.Nominatim(user_agent='myGeocoder').geocode(location)\n",
        "        date_time = Time\n",
        "        timezone = TimezoneFinder().timezone_at(lng=locator.longitude , lat=locator.latitude)\n",
        "        self.lat = locator.latitude * u.deg\n",
        "        self.lon = locator.longitude * u.deg\n",
        "        self.address = locator.address\n",
        "        self.time = Time(date).to_datetime(pytz.timezone(timezone))\n",
        "        self.tzname = self.time.timetz().tzname()"
      ],
      "execution_count": 20,
      "outputs": []
    },
    {
      "cell_type": "code",
      "metadata": {
        "colab": {
          "base_uri": "https://localhost:8080/"
        },
        "id": "yRspvHnTkTVd",
        "outputId": "538ce4ca-2086-4648-c6fd-27d1ca09051e"
      },
      "source": [
        "# Użycie i wywołanie metod powyższej klasy\n",
        "traveler = TravelerInTimeAndSapce('Krakow, Poland', '1999-01-01')\n",
        "print(traveler.address)\n",
        "print(traveler.lat, traveler.lon)\n",
        "print(traveler.time)\n",
        "print(traveler.tzname)"
      ],
      "execution_count": 22,
      "outputs": [
        {
          "output_type": "stream",
          "text": [
            "Kraków, województwo małopolskie, Polska\n",
            "50.0619474 deg 19.9368564 deg\n",
            "1999-01-01 01:00:00+01:00\n",
            "Europe/Warsaw\n"
          ],
          "name": "stdout"
        }
      ]
    }
  ]
}